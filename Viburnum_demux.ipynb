{
 "cells": [
  {
   "cell_type": "markdown",
   "metadata": {},
   "source": [
    "## Viburnum RAD-seq demultiplexing notebook"
   ]
  },
  {
   "cell_type": "markdown",
   "metadata": {},
   "source": [
    "This notebook contains the *ipyrad* code used to demultiplex fastq data from multiple RAD-seq libraries sequenced across multiple lanes of Illumina HiSeq, and to visualize the distribution of reads among samples. Information about the libraries is recorded below. This notebook and it's accompanying barcode files are archived online in a github repository [http://github.com/dereneaton/Viburnum-phylogeny](https://github.com/dereneaton/Viburnum-phylogeny). It may be updated as new data are attained. "
   ]
  },
  {
   "cell_type": "markdown",
   "metadata": {},
   "source": [
    "### Raw fastq reads and index (barcode) files\n",
    "The libraries were prepared with *inline* barcodes that 10bp in length. Barcodes files that match sample names to barcodes are used to demultiplex the data. These files are available online, and used below. \n",
    "1. [Viburnum library-1 barcodes](https://github.com/dereneaton/Viburnum-phylogeny/blob/master/VIBURNUM_1_BARCODES.txt)\n",
    "2. [Viburnum library-2 barcodes](https://github.com/dereneaton/Viburnum-phylogeny/blob/master/VIBURNUM_2_BARCODES.txt)  \n",
    "3. [Viburnum library-3 barcodes](https://github.com/dereneaton/Viburnum-phylogeny/blob/master/VIBURNUM_3_BARCODES.txt)  \n",
    "4. [Viburnum library-4 barcodes](https://github.com/dereneaton/Viburnum-phylogeny/blob/master/VIBURNUM_4_BARCODES.txt)  \n",
    "3. [Viburnum library-5 barcodes](https://github.com/dereneaton/Viburnum-phylogeny/blob/master/VIBURNUM_5_BARCODES.txt)  \n",
    "3. [Viburnum library-6 barcodes](https://github.com/dereneaton/Viburnum-phylogeny/blob/master/VIBURNUM_6_BARCODES.txt)  \n",
    "3. [Viburnum library-7 barcodes](https://github.com/dereneaton/Viburnum-phylogeny/blob/master/VIBURNUM_7_BARCODES.txt)  \n",
    "3. [Viburnum library-8 barcodes](https://github.com/dereneaton/Viburnum-phylogeny/blob/master/VIBURNUM_8_BARCODES.txt)  \n"
   ]
  },
  {
   "cell_type": "markdown",
   "metadata": {},
   "source": [
    "### The local paths to raw data files\n",
    "All of these libraries were sequenced twice, on two separate lanes, to increase read depths. We could simply read in all of the data from both lanes, along with their corresponding barcodes file, to demultiplex each library. However, the more proper way to do things is to demultiplex each lane of data separately so that any possible effect of the lane on our results could (at least in theory) be detected. This is also the recommended format for uploading data to the NCBI short read archive, with each lane of data separated into separate files. It's really not that much trouble, since later when we go to assemble the data reads from the same sample, but which were demultiplexed into separate files, representing the separate lanes, can be easily merged using the `ipyrad.merge()` command.  "
   ]
  },
  {
   "cell_type": "code",
   "execution_count": 1,
   "metadata": {
    "collapsed": false
   },
   "outputs": [],
   "source": [
    "## Name: Viburnum 1\n",
    "## Description: mostly species-level sampling for phylogeny but also some\n",
    "##              population-level sampling for Beth's thesis, including\n",
    "##              nudum, dentatum, rufidulum, lentago, prunifolium.\n",
    "## Sequencer: 2 lanes; 100bp; SE; Illumina Hi-Seq 2000 at Univ. Oregon\n",
    "## Lib-prep: Floragenex, PstI enzyme, size-selection:?\n",
    "\n",
    "## there are two compressed data files (2 lanes), each 16Gb in size.\n",
    "lib1_1 = \"/ysm-gpfs/project/de243/RADSEQ_RAWS/VIBURNUM_1/UO_C353_*.gz\"\n",
    "lib1_2 = \"/ysm-gpfs/project/de243/RADSEQ_RAWS/VIBURNUM_1/UO_C354_*.gz\"\n",
    "bar1 = \"/ysm-gpfs/project/de243/RADSEQ_RAWS/barcodes/VIBURNUM_1_BARCODES.txt\""
   ]
  },
  {
   "cell_type": "code",
   "execution_count": 2,
   "metadata": {
    "collapsed": true
   },
   "outputs": [],
   "source": [
    "## Name: Viburnum 2\n",
    "## Description: mostly species-level sampling for phylogeny but also some\n",
    "##              population-level sampling for Beth's thesis, including\n",
    "##              lentago, prunifolium, rufidulum, obovatum.\n",
    "## Sequencer: 2 lanes; 100bp; SE; Illumina Hi-Seq 2000 and 2500 at Univ. Oregon\n",
    "## Lib-prep: Floragenex, PstI enzyme, size-selection: ?\n",
    "\n",
    "## The first lane is HiSeq 2000, 9 files each ~1.4Gb in size.\n",
    "## The second lane is HiSeq 2500, 7 files each ~1.4Gb in size.\n",
    "lib2_1 = \"/ysm-gpfs/project/de243/RADSEQ_RAWS/VIBURNUM_2/lane1_*.gz\"\n",
    "lib2_2 = \"/ysm-gpfs/project/de243/RADSEQ_RAWS/VIBURNUM_2/lane8_*.gz\"\n",
    "bar2 = \"/ysm-gpfs/project/de243/RADSEQ_RAWS/barcodes/VIBURNUM_2_BARCODES.txt\""
   ]
  },
  {
   "cell_type": "code",
   "execution_count": 3,
   "metadata": {
    "collapsed": true
   },
   "outputs": [],
   "source": [
    "## Name: Viburnum 3\n",
    "## Description: dentatum & nudum sampling for Beth's thesis\n",
    "## Sequencer: 2 lanes; 100bp; SE; Illumina Hi-Seq 2500 at Univ. Oregon\n",
    "## Lib-prep: Floragenex, PstI enzyme, size-selection:?\n",
    "\n",
    "## there are two compressed data files (2 lanes), each 9Gb in size.\n",
    "lib3_1 = \"/ysm-gpfs/project/de243/RADSEQ_RAWS/VIBURNUM_3/261_*.gz\"\n",
    "lib3_2 = \"/ysm-gpfs/project/de243/RADSEQ_RAWS/VIBURNUM_3/262_*.gz\"\n",
    "bar3 = \"/ysm-gpfs/project/de243/RADSEQ_RAWS/barcodes/VIBURNUM_3_BARCODES.txt\""
   ]
  },
  {
   "cell_type": "code",
   "execution_count": 4,
   "metadata": {
    "collapsed": true
   },
   "outputs": [],
   "source": [
    "## Name: Viburnum 4\n",
    "## Description: mostly dentatum & rufidulum sampling for Beth's thesis\n",
    "## Sequencer: 2 lanes; 100bp; SE; Illumina Hi-Seq 2500 at Univ. Oregon\n",
    "## Lib-prep: Floragenex, PstI enzyme, size-selection:?\n",
    "\n",
    "## there are two compressed data files (2 lanes), each 11Gb in size.\n",
    "lib4_1 = \"/ysm-gpfs/project/de243/RADSEQ_RAWS/VIBURNUM_4/263_*.gz\"\n",
    "lib4_2 = \"/ysm-gpfs/project/de243/RADSEQ_RAWS/VIBURNUM_4/264_*.gz\"\n",
    "bar4 = \"/ysm-gpfs/project/de243/RADSEQ_RAWS/barcodes/VIBURNUM_4_BARCODES.txt\""
   ]
  },
  {
   "cell_type": "code",
   "execution_count": 5,
   "metadata": {
    "collapsed": true
   },
   "outputs": [],
   "source": [
    "## Name: Viburnum 5 (C657)\n",
    "## Description: ...\n",
    "## Sequencer: 1 lane; 100bp; SE; Illumina Hi-Seq 4000 at Univ. Oregon\n",
    "## Lib-prep: Floragenex, PstI enzyme, size-selection:?\n",
    "\n",
    "## One file gzip compressed to 16GB\n",
    "lib5_1 = \"/ysm-gpfs/project/de243/RADSEQ_RAWS/VIBURNUM_5/932_*.gz\"\n",
    "bar5 = \"/ysm-gpfs/project/de243/RADSEQ_RAWS/barcodes/VIBURNUM_5_BARCODES_deren.txt\""
   ]
  },
  {
   "cell_type": "code",
   "execution_count": 6,
   "metadata": {
    "collapsed": true
   },
   "outputs": [],
   "source": [
    "## Name: Viburnum 6 (C655)\n",
    "## Description: ...\n",
    "## Sequencer: 1 lane; 100bp; SE; Illumina Hi-Seq 4000 at Univ. Oregon\n",
    "## Lib-prep: Floragenex, PstI enzyme, size-selection:?\n",
    "\n",
    "## One file gzip compressed to 16GB\n",
    "lib6_1 = \"/ysm-gpfs/project/de243/RADSEQ_RAWS/VIBURNUM_6/930_*.gz\"\n",
    "bar6 = \"/ysm-gpfs/project/de243/RADSEQ_RAWS/barcodes/VIBURNUM_6_BARCODES_deren.txt\""
   ]
  },
  {
   "cell_type": "code",
   "execution_count": 7,
   "metadata": {
    "collapsed": true
   },
   "outputs": [],
   "source": [
    "## Name: Viburnum 7 (C658)\n",
    "## Description: ...\n",
    "## Sequencer: 1 lane; 100bp; SE; Illumina Hi-Seq 4000 at Univ. Oregon\n",
    "## Lib-prep: Floragenex, PstI enzyme, size-selection:?\n",
    "\n",
    "## One file gzip compressed to 16GB\n",
    "lib7_1 = \"/ysm-gpfs/project/de243/RADSEQ_RAWS/VIBURNUM_7/933_*.gz\"\n",
    "bar7 = \"/ysm-gpfs/project/de243/RADSEQ_RAWS/barcodes/VIBURNUM_7_BARCODES_deren.txt\""
   ]
  },
  {
   "cell_type": "code",
   "execution_count": 8,
   "metadata": {
    "collapsed": true
   },
   "outputs": [],
   "source": [
    "## Name: Viburnum 8 (C656)\n",
    "## Description: ...\n",
    "## Sequencer: 1 lane; 100bp; SE; Illumina Hi-Seq 4000 at Univ. Oregon\n",
    "## Lib-prep: Floragenex, PstI enzyme, size-selection:?\n",
    "\n",
    "## One file gzip compressed to 16GB\n",
    "lib8_1 = \"/ysm-gpfs/project/de243/RADSEQ_RAWS/VIBURNUM_8/931_*.gz\"\n",
    "bar8 = \"/ysm-gpfs/project/de243/RADSEQ_RAWS/barcodes/VIBURNUM_8_BARCODES_deren.txt\""
   ]
  },
  {
   "cell_type": "markdown",
   "metadata": {},
   "source": [
    "### Load *ipyrad* and print the current version"
   ]
  },
  {
   "cell_type": "code",
   "execution_count": 9,
   "metadata": {
    "collapsed": false
   },
   "outputs": [
    {
     "name": "stdout",
     "output_type": "stream",
     "text": [
      "ipyrad v.0.5.15\n"
     ]
    }
   ],
   "source": [
    "import ipyrad as ip\n",
    "print \"ipyrad v.{}\".format(ip.__version__)"
   ]
  },
  {
   "cell_type": "code",
   "execution_count": 10,
   "metadata": {
    "collapsed": false
   },
   "outputs": [
    {
     "name": "stdout",
     "output_type": "stream",
     "text": [
      "  host compute node: [20 cores] on c15n01.farnam.hpc.yale.internal\n",
      "  host compute node: [20 cores] on c14n12.farnam.hpc.yale.internal\n"
     ]
    }
   ],
   "source": [
    "print ip.cluster_info()"
   ]
  },
  {
   "cell_type": "markdown",
   "metadata": {},
   "source": [
    "### Initiate an Assembly class objects for each lane of data\n"
   ]
  },
  {
   "cell_type": "code",
   "execution_count": 17,
   "metadata": {
    "collapsed": false
   },
   "outputs": [
    {
     "name": "stdout",
     "output_type": "stream",
     "text": [
      "  New Assembly: lib1-lane1\n",
      "  New Assembly: lib1-lane2\n",
      "  New Assembly: lib2-lane1\n",
      "  New Assembly: lib2-lane2\n",
      "  New Assembly: lib3-lane1\n",
      "  New Assembly: lib3-lane2\n",
      "  New Assembly: lib4-lane1\n",
      "  New Assembly: lib4-lane2\n"
     ]
    }
   ],
   "source": [
    "## create Assemblies for each library\n",
    "data1_1 = ip.Assembly(\"lib1-lane1\")\n",
    "data1_2 = ip.Assembly(\"lib1-lane2\")\n",
    "data2_1 = ip.Assembly(\"lib2-lane1\")\n",
    "data2_2 = ip.Assembly(\"lib2-lane2\")\n",
    "data3_1 = ip.Assembly(\"lib3-lane1\")\n",
    "data3_2 = ip.Assembly(\"lib3-lane2\")\n",
    "data4_1 = ip.Assembly(\"lib4-lane1\")\n",
    "data4_2 = ip.Assembly(\"lib4-lane2\")"
   ]
  },
  {
   "cell_type": "code",
   "execution_count": 11,
   "metadata": {
    "collapsed": false
   },
   "outputs": [
    {
     "name": "stdout",
     "output_type": "stream",
     "text": [
      "  New Assembly: lib5-lane1\n",
      "  New Assembly: lib6-lane1\n",
      "  New Assembly: lib7-lane1\n",
      "  New Assembly: lib8-lane1\n"
     ]
    }
   ],
   "source": [
    "data5_1 = ip.Assembly(\"lib5-lane1\")\n",
    "data6_1 = ip.Assembly(\"lib6-lane1\")\n",
    "data7_1 = ip.Assembly(\"lib7-lane1\")\n",
    "data8_1 = ip.Assembly(\"lib8-lane1\")"
   ]
  },
  {
   "cell_type": "markdown",
   "metadata": {},
   "source": [
    "### Set parameters for each Assembly\n",
    "\n",
    "Here we set the path to the data files, as well as set a common project directory for all of the assemblies so that the resulting files that they produce will all be grouped into one place. Because the barcodes are 10bp in length we will allow 1 bp error in barcodes during demultiplexing. "
   ]
  },
  {
   "cell_type": "code",
   "execution_count": 12,
   "metadata": {
    "collapsed": true
   },
   "outputs": [],
   "source": [
    "## Path where we want to write all of the demux files \n",
    "demuxdir = \"/ysm-gpfs/project/de243/Viburnum_demux\""
   ]
  },
  {
   "cell_type": "code",
   "execution_count": null,
   "metadata": {
    "collapsed": true
   },
   "outputs": [],
   "source": [
    "## set data & barcodes paths for each library\n",
    "data1_1.set_params(\"project_dir\", demuxdir)\n",
    "data1_1.set_params(\"raw_fastq_path\", lib1_1)\n",
    "data1_1.set_params(\"barcodes_path\", bar1)\n",
    "data1_1.set_params(\"max_barcode_mismatch\", 1)\n",
    "\n",
    "## set data & barcodes paths for each library\n",
    "data1_2.set_params(\"project_dir\", demuxdir)\n",
    "data1_2.set_params(\"raw_fastq_path\", lib1_2)\n",
    "data1_2.set_params(\"barcodes_path\", bar1)\n",
    "data1_2.set_params(\"max_barcode_mismatch\", 1)"
   ]
  },
  {
   "cell_type": "code",
   "execution_count": null,
   "metadata": {
    "collapsed": true
   },
   "outputs": [],
   "source": [
    "## set data & barcodes paths for each library\n",
    "data2_1.set_params(\"project_dir\", demuxdir)\n",
    "data2_1.set_params(\"raw_fastq_path\", lib2_1)\n",
    "data2_1.set_params(\"barcodes_path\", bar2)\n",
    "data2_1.set_params(\"max_barcode_mismatch\", 1)\n",
    "\n",
    "## set data & barcodes paths for each library\n",
    "data2_2.set_params(\"project_dir\", demuxdir)\n",
    "data2_2.set_params(\"raw_fastq_path\", lib2_2)\n",
    "data2_2.set_params(\"barcodes_path\", bar2)\n",
    "data2_2.set_params(\"max_barcode_mismatch\", 1)"
   ]
  },
  {
   "cell_type": "code",
   "execution_count": null,
   "metadata": {
    "collapsed": true
   },
   "outputs": [],
   "source": [
    "## set data & barcodes paths for each library\n",
    "data3_1.set_params(\"project_dir\", demuxdir)\n",
    "data3_1.set_params(\"raw_fastq_path\", lib3_1)\n",
    "data3_1.set_params(\"barcodes_path\", bar3)\n",
    "data3_1.set_params(\"max_barcode_mismatch\", 1)\n",
    "\n",
    "## set data & barcodes paths for each library\n",
    "data3_2.set_params(\"project_dir\", demuxdir)\n",
    "data3_2.set_params(\"raw_fastq_path\", lib3_2)\n",
    "data3_2.set_params(\"barcodes_path\", bar3)\n",
    "data3_2.set_params(\"max_barcode_mismatch\", 1)"
   ]
  },
  {
   "cell_type": "code",
   "execution_count": null,
   "metadata": {
    "collapsed": true
   },
   "outputs": [],
   "source": [
    "## set data & barcodes paths for each library\n",
    "data4_1.set_params(\"project_dir\", demuxdir)\n",
    "data4_1.set_params(\"raw_fastq_path\", lib4_1)\n",
    "data4_1.set_params(\"barcodes_path\", bar4)\n",
    "data4_1.set_params(\"max_barcode_mismatch\", 1)\n",
    "\n",
    "## set data & barcodes paths for each library\n",
    "data4_2.set_params(\"project_dir\", demuxdir)\n",
    "data4_2.set_params(\"raw_fastq_path\", lib4_2)\n",
    "data4_2.set_params(\"barcodes_path\", bar4)\n",
    "data4_2.set_params(\"max_barcode_mismatch\", 1)"
   ]
  },
  {
   "cell_type": "code",
   "execution_count": 13,
   "metadata": {
    "collapsed": false
   },
   "outputs": [],
   "source": [
    "## set data & barcodes paths for each library\n",
    "data5_1.set_params(\"project_dir\", demuxdir)\n",
    "data5_1.set_params(\"raw_fastq_path\", lib5_1)\n",
    "data5_1.set_params(\"barcodes_path\", bar5)\n",
    "data5_1.set_params(\"max_barcode_mismatch\", 1)"
   ]
  },
  {
   "cell_type": "code",
   "execution_count": 14,
   "metadata": {
    "collapsed": true
   },
   "outputs": [],
   "source": [
    "## set data & barcodes paths for each library\n",
    "data6_1.set_params(\"project_dir\", demuxdir)\n",
    "data6_1.set_params(\"raw_fastq_path\", lib6_1)\n",
    "data6_1.set_params(\"barcodes_path\", bar6)\n",
    "data6_1.set_params(\"max_barcode_mismatch\", 1)"
   ]
  },
  {
   "cell_type": "code",
   "execution_count": 15,
   "metadata": {
    "collapsed": true
   },
   "outputs": [],
   "source": [
    "## set data & barcodes paths for each library\n",
    "data7_1.set_params(\"project_dir\", demuxdir)\n",
    "data7_1.set_params(\"raw_fastq_path\", lib7_1)\n",
    "data7_1.set_params(\"barcodes_path\", bar7)\n",
    "data7_1.set_params(\"max_barcode_mismatch\", 1)"
   ]
  },
  {
   "cell_type": "code",
   "execution_count": 16,
   "metadata": {
    "collapsed": true
   },
   "outputs": [],
   "source": [
    "## set data & barcodes paths for each library\n",
    "data8_1.set_params(\"project_dir\", demuxdir)\n",
    "data8_1.set_params(\"raw_fastq_path\", lib8_1)\n",
    "data8_1.set_params(\"barcodes_path\", bar8)\n",
    "data8_1.set_params(\"max_barcode_mismatch\", 1)"
   ]
  },
  {
   "cell_type": "markdown",
   "metadata": {},
   "source": [
    "### Demux the libraries"
   ]
  },
  {
   "cell_type": "code",
   "execution_count": 17,
   "metadata": {
    "collapsed": false
   },
   "outputs": [
    {
     "name": "stdout",
     "output_type": "stream",
     "text": [
      "\n",
      "  Assembly: lib5-lane1\n",
      "  [####################] 100%  chunking large files  | 0:09:36 | s1 | \n",
      "  [####################] 100%  sorting reads         | 0:03:06 | s1 | \n",
      "  [####################] 100%  writing/compressing   | 0:03:39 | s1 | \n"
     ]
    }
   ],
   "source": [
    "data5_1.run(\"1\")"
   ]
  },
  {
   "cell_type": "code",
   "execution_count": 18,
   "metadata": {
    "collapsed": false
   },
   "outputs": [
    {
     "name": "stdout",
     "output_type": "stream",
     "text": [
      "\n",
      "  Assembly: lib6-lane1\n",
      "  [####################] 100%  chunking large files  | 0:09:46 | s1 | \n",
      "  [####################] 100%  sorting reads         | 0:02:35 | s1 | \n",
      "  [####################] 100%  writing/compressing   | 0:03:31 | s1 | \n"
     ]
    }
   ],
   "source": [
    "data6_1.run(\"1\")"
   ]
  },
  {
   "cell_type": "code",
   "execution_count": 19,
   "metadata": {
    "collapsed": false
   },
   "outputs": [
    {
     "name": "stdout",
     "output_type": "stream",
     "text": [
      "\n",
      "  Assembly: lib7-lane1\n",
      "  [####################] 100%  chunking large files  | 0:09:27 | s1 | \n",
      "  [####################] 100%  sorting reads         | 0:02:52 | s1 | \n",
      "  [####################] 100%  writing/compressing   | 0:03:28 | s1 | \n"
     ]
    }
   ],
   "source": [
    "data7_1.run(\"1\")"
   ]
  },
  {
   "cell_type": "code",
   "execution_count": 20,
   "metadata": {
    "collapsed": false,
    "scrolled": true
   },
   "outputs": [
    {
     "name": "stdout",
     "output_type": "stream",
     "text": [
      "\n",
      "  Assembly: lib8-lane1\n",
      "  [####################] 100%  chunking large files  | 0:09:39 | s1 | \n",
      "  [####################] 100%  sorting reads         | 0:03:01 | s1 | \n",
      "  [####################] 100%  writing/compressing   | 0:03:06 | s1 | \n"
     ]
    }
   ],
   "source": [
    "data8_1.run(\"1\")"
   ]
  },
  {
   "cell_type": "markdown",
   "metadata": {},
   "source": [
    "### File access permissions\n",
    "Because I want all users in my group to be able to access the new demux folder that we created somewhere in our cluster directory, I will use the unix command chmod to make it accessible to users in my 'group'. "
   ]
  },
  {
   "cell_type": "code",
   "execution_count": 136,
   "metadata": {
    "collapsed": false
   },
   "outputs": [
    {
     "name": "stdout",
     "output_type": "stream",
     "text": [
      "chmod to permissions in /ysm-gpfs/home/de243/project/Viburnum_demux/\n"
     ]
    }
   ],
   "source": [
    "%%bash -s \"$demuxdir\"\n",
    "## chmod changes the permissions, \n",
    "## We want files to be 664 and dirs to be 775\n",
    "echo \"chmod to permissions in\" $1\n",
    "find $1 -type d | xargs chmod 775\n",
    "find $1 -type f | xargs chmod 664\n"
   ]
  },
  {
   "cell_type": "markdown",
   "metadata": {},
   "source": [
    "### Stats"
   ]
  },
  {
   "cell_type": "code",
   "execution_count": 94,
   "metadata": {
    "collapsed": false
   },
   "outputs": [],
   "source": [
    "## reload assemblies in the case that this notebook was restarted. \n",
    "import ipyrad as ip\n",
    "import pandas as pd\n",
    "import numpy as np\n",
    "import glob\n",
    "import os\n",
    "\n",
    "## the demuxdir\n",
    "demuxdir = \"/ysm-gpfs/home/de243/project/Viburnum_demux/\"\n",
    "\n",
    "## json files\n",
    "jsons = sorted(glob.glob(os.path.join(demuxdir, \"*.json\")))\n",
    "\n",
    "## datadict\n",
    "data = [ip.load_json(i, quiet=True) for i in jsons]"
   ]
  },
  {
   "cell_type": "code",
   "execution_count": 95,
   "metadata": {
    "collapsed": false
   },
   "outputs": [
    {
     "name": "stdout",
     "output_type": "stream",
     "text": [
      "            count     mean      std     min      25%      50%      75%  \\\n",
      "lib1-lane1     95  1624177   755857  443002  1130699  1450416  1924737   \n",
      "lib1-lane2     95  1626160   739802  437908  1137801  1468499  1962176   \n",
      "lib2-lane1     95  1201333   547659  318767   887036  1056552  1390343   \n",
      "lib2-lane2     95   880605   402003  233855   649875   780487  1029653   \n",
      "lib3-lane1     95  1040292   295246  399155   885037   995051  1164271   \n",
      "lib3-lane2     95  1023212   282450  432182   840556  1017557  1133667   \n",
      "lib4-lane1     95  1235275   813645  138413   687032  1127640  1564199   \n",
      "lib4-lane2     95  1199391   782075  139396   662859  1074653  1527673   \n",
      "lib5-lane1     95  2441584  3002894  109136  1208573  1541344  2746925   \n",
      "lib6-lane1     95  2400024  1483075   18716  1727431  2364915  2866835   \n",
      "lib7-lane1     95  2424420  2148516   25111  1158722  2068931  2875426   \n",
      "lib8-lane1     95  2440229  1938794   53769  1385807  2181897  2866726   \n",
      "\n",
      "                 max  \n",
      "lib1-lane1   3927064  \n",
      "lib1-lane2   3829822  \n",
      "lib2-lane1   3926333  \n",
      "lib2-lane2   2968467  \n",
      "lib3-lane1   2642073  \n",
      "lib3-lane2   2506240  \n",
      "lib4-lane1   4924681  \n",
      "lib4-lane2   4634897  \n",
      "lib5-lane1  25144899  \n",
      "lib6-lane1  11504167  \n",
      "lib7-lane1  13442595  \n",
      "lib8-lane1  11969700  \n"
     ]
    }
   ],
   "source": [
    "## a quick summary of the raw_reads stats w/o Floragenex control sample\n",
    "raws = pd.DataFrame([dat.stats.drop(\"FGXCONTROL\").reads_raw.describe() for dat in data],\n",
    "                     index=[dat.name for dat in data])\n",
    "\n",
    "print raws.astype(int)"
   ]
  },
  {
   "cell_type": "markdown",
   "metadata": {},
   "source": [
    "## Analysis/Visualization of read distributions"
   ]
  },
  {
   "cell_type": "code",
   "execution_count": 26,
   "metadata": {
    "collapsed": true
   },
   "outputs": [],
   "source": [
    "## import some plotting libraries\n",
    "import toyplot"
   ]
  },
  {
   "cell_type": "code",
   "execution_count": 143,
   "metadata": {
    "collapsed": false
   },
   "outputs": [
    {
     "data": {
      "text/plain": [
       "<toyplot.coordinates.PerTickHelper at 0x2b08adf27e50>"
      ]
     },
     "execution_count": 143,
     "metadata": {},
     "output_type": "execute_result"
    }
   ],
   "source": [
    "axes.y.ticks."
   ]
  },
  {
   "cell_type": "code",
   "execution_count": 140,
   "metadata": {
    "collapsed": false,
    "scrolled": false
   },
   "outputs": [
    {
     "ename": "AttributeError",
     "evalue": "can't set attribute",
     "output_type": "error",
     "traceback": [
      "\u001b[0;31m\u001b[0m",
      "\u001b[0;31mAttributeError\u001b[0mTraceback (most recent call last)",
      "\u001b[0;32m<ipython-input-140-57fa014f695a>\u001b[0m in \u001b[0;36m<module>\u001b[0;34m()\u001b[0m\n\u001b[1;32m     10\u001b[0m     \u001b[0maxes\u001b[0m\u001b[0;34m.\u001b[0m\u001b[0mx\u001b[0m\u001b[0;34m.\u001b[0m\u001b[0mspine\u001b[0m\u001b[0;34m.\u001b[0m\u001b[0mshow\u001b[0m \u001b[0;34m=\u001b[0m \u001b[0mFalse\u001b[0m\u001b[0;34m\u001b[0m\u001b[0m\n\u001b[1;32m     11\u001b[0m     \u001b[0maxes\u001b[0m\u001b[0;34m.\u001b[0m\u001b[0my\u001b[0m\u001b[0;34m.\u001b[0m\u001b[0mticks\u001b[0m\u001b[0;34m.\u001b[0m\u001b[0mlabels\u001b[0m\u001b[0;34m.\u001b[0m\u001b[0mangle\u001b[0m \u001b[0;34m=\u001b[0m \u001b[0;34m-\u001b[0m\u001b[0;36m90\u001b[0m\u001b[0;34m\u001b[0m\u001b[0m\n\u001b[0;32m---> 12\u001b[0;31m     \u001b[0maxes\u001b[0m\u001b[0;34m.\u001b[0m\u001b[0my\u001b[0m\u001b[0;34m.\u001b[0m\u001b[0mticks\u001b[0m\u001b[0;34m.\u001b[0m\u001b[0mlabels\u001b[0m\u001b[0;34m.\u001b[0m\u001b[0mlabel\u001b[0m \u001b[0;34m=\u001b[0m \u001b[0mrange\u001b[0m\u001b[0;34m(\u001b[0m\u001b[0;36m4\u001b[0m\u001b[0;34m)\u001b[0m\u001b[0;34m\u001b[0m\u001b[0m\n\u001b[0m\u001b[1;32m     13\u001b[0m     \u001b[0maxes\u001b[0m\u001b[0;34m.\u001b[0m\u001b[0my\u001b[0m\u001b[0;34m.\u001b[0m\u001b[0mticks\u001b[0m\u001b[0;34m.\u001b[0m\u001b[0mlabels\u001b[0m\u001b[0;34m.\u001b[0m\u001b[0mstyle\u001b[0m \u001b[0;34m=\u001b[0m \u001b[0;34m{\u001b[0m\u001b[0;34m\"font-size\"\u001b[0m\u001b[0;34m:\u001b[0m \u001b[0;36m12\u001b[0m\u001b[0;34m}\u001b[0m\u001b[0;34m\u001b[0m\u001b[0m\n",
      "\u001b[0;31mAttributeError\u001b[0m: can't set attribute"
     ]
    },
    {
     "data": {
      "text/html": [
       "<div align=\"center\" class=\"toyplot\" id=\"ta7df1b1a1e1849dcb4e4374a0086f743\"><svg class=\"toyplot-canvas-Canvas\" height=\"3600.0px\" id=\"tafe9aba0689942a493c1e5bb00f77529\" preserveAspectRatio=\"xMidYMid meet\" style=\"background-color:transparent;fill:rgb(16.1%,15.3%,14.1%);fill-opacity:1.0;font-family:Helvetica;font-size:12px;opacity:1.0;stroke:rgb(16.1%,15.3%,14.1%);stroke-opacity:1.0;stroke-width:1.0\" viewBox=\"0 0 600.0 3600.0\" width=\"600.0px\" xmlns=\"http://www.w3.org/2000/svg\" xmlns:toyplot=\"http://www.sandia.gov/toyplot\" xmlns:xlink=\"http://www.w3.org/1999/xlink\"><g class=\"toyplot-coordinates-Cartesian\" id=\"tdd194b6e2eaa4266b4b45147fdab4420\"><clipPath id=\"t6ba528cb80ec4848a83d80859e5f041b\"><rect height=\"170.0\" width=\"470.0\" x=\"65.0\" y=\"65.0\"></rect></clipPath><g clip-path=\"url(#t6ba528cb80ec4848a83d80859e5f041b)\"><g class=\"toyplot-mark-BarMagnitudes\" id=\"tfafd8b8f2fc546a9ae95aab4a697244f\" style=\"stroke:rgb(100%,100%,100%);stroke-opacity:1.0;stroke-width:1.0\"><g class=\"toyplot-Series\"><rect class=\"toyplot-Datum\" height=\"0.67211249999999723\" style=\"fill:rgb(40%,76.1%,64.7%);fill-opacity:1.0;opacity:1.0;stroke:rgb(100%,100%,100%);stroke-opacity:1.0;stroke-width:1.0\" width=\"4.7368421052631504\" x=\"75.0\" y=\"224.3278875\"><title>formosanum_C7_JH_2007: 443002</title></rect><rect class=\"toyplot-Datum\" height=\"0.72942500000002042\" style=\"fill:rgb(40%,76.1%,64.7%);fill-opacity:1.0;opacity:1.0;stroke:rgb(100%,100%,100%);stroke-opacity:1.0;stroke-width:1.0\" width=\"4.7368421052631646\" x=\"79.73684210526315\" y=\"224.27057499999998\"><title>foetens_ERAD10: 459437</title></rect><rect class=\"toyplot-Datum\" height=\"1.7409375000000296\" style=\"fill:rgb(40%,76.1%,64.7%);fill-opacity:1.0;opacity:1.0;stroke:rgb(100%,100%,100%);stroke-opacity:1.0;stroke-width:1.0\" width=\"4.7368421052631646\" x=\"84.473684210526315\" y=\"223.25906249999997\"><title>grandiflorum_ERAD11_Wendy: 463062</title></rect><rect class=\"toyplot-Datum\" height=\"2.4240250000000003\" style=\"fill:rgb(40%,76.1%,64.7%);fill-opacity:1.0;opacity:1.0;stroke:rgb(100%,100%,100%);stroke-opacity:1.0;stroke-width:1.0\" width=\"4.7368421052631504\" x=\"89.21052631578948\" y=\"222.575975\"><title>YU08_nudum: 491416</title></rect><rect class=\"toyplot-Datum\" height=\"2.4873874999999828\" style=\"fill:rgb(40%,76.1%,64.7%);fill-opacity:1.0;opacity:1.0;stroke:rgb(100%,100%,100%);stroke-opacity:1.0;stroke-width:1.0\" width=\"4.7368421052631646\" x=\"93.94736842105263\" y=\"222.51261250000002\"><title>henryi_D22_WC_272: 561207</title></rect><rect class=\"toyplot-Datum\" height=\"2.6157750000000135\" style=\"fill:rgb(40%,76.1%,64.7%);fill-opacity:1.0;opacity:1.0;stroke:rgb(100%,100%,100%);stroke-opacity:1.0;stroke-width:1.0\" width=\"4.7368421052631646\" x=\"98.684210526315795\" y=\"222.38422499999999\"><title>anamensis_C6_PWS_2094: 581639</title></rect><rect class=\"toyplot-Datum\" height=\"3.3407375000000172\" style=\"fill:rgb(40%,76.1%,64.7%);fill-opacity:1.0;opacity:1.0;stroke:rgb(100%,100%,100%);stroke-opacity:1.0;stroke-width:1.0\" width=\"4.7368421052631504\" x=\"103.42105263157896\" y=\"221.65926249999998\"><title>ELS054_nudum: 679985</title></rect><rect class=\"toyplot-Datum\" height=\"3.7402250000000095\" style=\"fill:rgb(40%,76.1%,64.7%);fill-opacity:1.0;opacity:1.0;stroke:rgb(100%,100%,100%);stroke-opacity:1.0;stroke-width:1.0\" width=\"4.7368421052631504\" x=\"108.15789473684211\" y=\"221.25977499999999\"><title>sieboldii_AA_616_6B: 731558</title></rect><rect class=\"toyplot-Datum\" height=\"4.4375\" style=\"fill:rgb(40%,76.1%,64.7%);fill-opacity:1.0;opacity:1.0;stroke:rgb(100%,100%,100%);stroke-opacity:1.0;stroke-width:1.0\" width=\"4.7368421052631504\" x=\"112.89473684210526\" y=\"220.5625\"><title>odoratissimum_PWS2317: 819408</title></rect><rect class=\"toyplot-Datum\" height=\"4.836449999999985\" style=\"fill:rgb(40%,76.1%,64.7%);fill-opacity:1.0;opacity:1.0;stroke:rgb(100%,100%,100%);stroke-opacity:1.0;stroke-width:1.0\" width=\"4.7368421052631788\" x=\"117.63157894736841\" y=\"220.16355000000001\"><title>sargentii_RCW19: 830701</title></rect><rect class=\"toyplot-Datum\" height=\"4.9365500000000111\" style=\"fill:rgb(40%,76.1%,64.7%);fill-opacity:1.0;opacity:1.0;stroke:rgb(100%,100%,100%);stroke-opacity:1.0;stroke-width:1.0\" width=\"4.7368421052631504\" x=\"122.36842105263159\" y=\"220.06344999999999\"><title>sempervirens_PWS2191: 867606</title></rect><rect class=\"toyplot-Datum\" height=\"6.0438125000000014\" style=\"fill:rgb(40%,76.1%,64.7%);fill-opacity:1.0;opacity:1.0;stroke:rgb(100%,100%,100%);stroke-opacity:1.0;stroke-width:1.0\" width=\"4.7368421052631788\" x=\"127.10526315789474\" y=\"218.9561875\"><title>ELS003_nudum: 877878</title></rect><rect class=\"toyplot-Datum\" height=\"8.8970874999999978\" style=\"fill:rgb(40%,76.1%,64.7%);fill-opacity:1.0;opacity:1.0;stroke:rgb(100%,100%,100%);stroke-opacity:1.0;stroke-width:1.0\" width=\"4.7368421052631504\" x=\"131.84210526315792\" y=\"216.1029125\"><title>ELS001_rufidulum: 928990</title></rect><rect class=\"toyplot-Datum\" height=\"10.224487500000009\" style=\"fill:rgb(40%,76.1%,64.7%);fill-opacity:1.0;opacity:1.0;stroke:rgb(100%,100%,100%);stroke-opacity:1.0;stroke-width:1.0\" width=\"4.7368421052631504\" x=\"136.57894736842107\" y=\"214.77551249999999\"><title>plicatum_C1_MJDJP_12: 932453</title></rect><rect class=\"toyplot-Datum\" height=\"11.493112499999995\" style=\"fill:rgb(40%,76.1%,64.7%);fill-opacity:1.0;opacity:1.0;stroke:rgb(100%,100%,100%);stroke-opacity:1.0;stroke-width:1.0\" width=\"4.7368421052631504\" x=\"141.31578947368422\" y=\"213.5068875\"><title>ELS050_nudum: 938236</title></rect><rect class=\"toyplot-Datum\" height=\"11.668237500000004\" style=\"fill:rgb(40%,76.1%,64.7%);fill-opacity:1.0;opacity:1.0;stroke:rgb(100%,100%,100%);stroke-opacity:1.0;stroke-width:1.0\" width=\"4.7368421052631504\" x=\"146.05263157894737\" y=\"213.3317625\"><title>dentatum_AA_5070_1A: 975530</title></rect><rect class=\"toyplot-Datum\" height=\"13.944874999999968\" style=\"fill:rgb(40%,76.1%,64.7%);fill-opacity:1.0;opacity:1.0;stroke:rgb(100%,100%,100%);stroke-opacity:1.0;stroke-width:1.0\" width=\"4.7368421052631788\" x=\"150.78947368421052\" y=\"211.05512500000003\"><title>beccarii_PWS2084: 978042</title></rect><rect class=\"toyplot-Datum\" height=\"14.718299999999999\" style=\"fill:rgb(40%,76.1%,64.7%);fill-opacity:1.0;opacity:1.0;stroke:rgb(100%,100%,100%);stroke-opacity:1.0;stroke-width:1.0\" width=\"4.736842105263122\" x=\"155.5263157894737\" y=\"210.2817\"><title>betulifolium_AA255_2001B: 1002084</title></rect><rect class=\"toyplot-Datum\" height=\"15.212649999999996\" style=\"fill:rgb(40%,76.1%,64.7%);fill-opacity:1.0;opacity:1.0;stroke:rgb(100%,100%,100%);stroke-opacity:1.0;stroke-width:1.0\" width=\"4.7368421052631788\" x=\"160.26315789473682\" y=\"209.78735\"><title>acutifolium_D11_MEX_005: 1034609</title></rect><rect class=\"toyplot-Datum\" height=\"15.391050000000007\" style=\"fill:rgb(40%,76.1%,64.7%);fill-opacity:1.0;opacity:1.0;stroke:rgb(100%,100%,100%);stroke-opacity:1.0;stroke-width:1.0\" width=\"4.7368421052631504\" x=\"165.0\" y=\"209.60894999999999\"><title>ELS017_rufidulum: 1052346</title></rect><rect class=\"toyplot-Datum\" height=\"15.472724999999969\" style=\"fill:rgb(40%,76.1%,64.7%);fill-opacity:1.0;opacity:1.0;stroke:rgb(100%,100%,100%);stroke-opacity:1.0;stroke-width:1.0\" width=\"4.7368421052631504\" x=\"169.73684210526315\" y=\"209.52727500000003\"><title>suspensum_C5_MJD_111711: 1088407</title></rect><rect class=\"toyplot-Datum\" height=\"15.625574999999969\" style=\"fill:rgb(40%,76.1%,64.7%);fill-opacity:1.0;opacity:1.0;stroke:rgb(100%,100%,100%);stroke-opacity:1.0;stroke-width:1.0\" width=\"4.7368421052631788\" x=\"174.4736842105263\" y=\"209.37442500000003\"><title>ELS029_nudum: 1102715</title></rect><rect class=\"toyplot-Datum\" height=\"15.771162499999974\" style=\"fill:rgb(40%,76.1%,64.7%);fill-opacity:1.0;opacity:1.0;stroke:rgb(100%,100%,100%);stroke-opacity:1.0;stroke-width:1.0\" width=\"4.7368421052631504\" x=\"179.21052631578948\" y=\"209.22883750000003\"><title>farreri_RCW21: 1121509</title></rect><rect class=\"toyplot-Datum\" height=\"16.889862500000021\" style=\"fill:rgb(40%,76.1%,64.7%);fill-opacity:1.0;opacity:1.0;stroke:rgb(100%,100%,100%);stroke-opacity:1.0;stroke-width:1.0\" width=\"4.7368421052631788\" x=\"183.94736842105263\" y=\"208.11013749999998\"><title>opulus_AA_labeld_trilobum_1097_60A: 1125850</title></rect><rect class=\"toyplot-Datum\" height=\"17.755324999999999\" style=\"fill:rgb(40%,76.1%,64.7%);fill-opacity:1.0;opacity:1.0;stroke:rgb(100%,100%,100%);stroke-opacity:1.0;stroke-width:1.0\" width=\"4.7368421052631504\" x=\"188.68421052631581\" y=\"207.244675\"><title>ELS025_rufidulum: 1135548</title></rect><rect class=\"toyplot-Datum\" height=\"18.170749999999998\" style=\"fill:rgb(40%,76.1%,64.7%);fill-opacity:1.0;opacity:1.0;stroke:rgb(100%,100%,100%);stroke-opacity:1.0;stroke-width:1.0\" width=\"4.7368421052631788\" x=\"193.42105263157896\" y=\"206.82925\"><title>ELS073_lentago: 1137701</title></rect><rect class=\"toyplot-Datum\" height=\"18.937537499999991\" style=\"fill:rgb(40%,76.1%,64.7%);fill-opacity:1.0;opacity:1.0;stroke:rgb(100%,100%,100%);stroke-opacity:1.0;stroke-width:1.0\" width=\"4.736842105263122\" x=\"198.15789473684214\" y=\"206.06246250000001\"><title>rufidulum_AA_21418A: 1140111</title></rect><rect class=\"toyplot-Datum\" height=\"19.018762500000008\" style=\"fill:rgb(40%,76.1%,64.7%);fill-opacity:1.0;opacity:1.0;stroke:rgb(100%,100%,100%);stroke-opacity:1.0;stroke-width:1.0\" width=\"4.7368421052631504\" x=\"202.89473684210526\" y=\"205.98123749999999\"><title>hanceanum_D5_PWS_2196: 1144981</title></rect><rect class=\"toyplot-Datum\" height=\"19.529862500000007\" style=\"fill:rgb(40%,76.1%,64.7%);fill-opacity:1.0;opacity:1.0;stroke:rgb(100%,100%,100%);stroke-opacity:1.0;stroke-width:1.0\" width=\"4.7368421052631788\" x=\"207.63157894736841\" y=\"205.47013749999999\"><title>nervosum_C4_PWS_2298: 1145218</title></rect><rect class=\"toyplot-Datum\" height=\"19.834149999999994\" style=\"fill:rgb(40%,76.1%,64.7%);fill-opacity:1.0;opacity:1.0;stroke:rgb(100%,100%,100%);stroke-opacity:1.0;stroke-width:1.0\" width=\"4.7368421052631504\" x=\"212.36842105263159\" y=\"205.16585000000001\"><title>ELS002_nudum: 1162091</title></rect><rect class=\"toyplot-Datum\" height=\"21.218574999999987\" style=\"fill:rgb(40%,76.1%,64.7%);fill-opacity:1.0;opacity:1.0;stroke:rgb(100%,100%,100%);stroke-opacity:1.0;stroke-width:1.0\" width=\"4.7368421052631788\" x=\"217.10526315789474\" y=\"203.78142500000001\"><title>nervosum_C2_PWS_2288_2289: 1188965</title></rect><rect class=\"toyplot-Datum\" height=\"21.228062499999993\" style=\"fill:rgb(40%,76.1%,64.7%);fill-opacity:1.0;opacity:1.0;stroke:rgb(100%,100%,100%);stroke-opacity:1.0;stroke-width:1.0\" width=\"4.736842105263122\" x=\"221.84210526315792\" y=\"203.77193750000001\"><title>triphyllum_D13_PWS_1783: 1190764</title></rect><rect class=\"toyplot-Datum\" height=\"21.255662500000028\" style=\"fill:rgb(40%,76.1%,64.7%);fill-opacity:1.0;opacity:1.0;stroke:rgb(100%,100%,100%);stroke-opacity:1.0;stroke-width:1.0\" width=\"4.7368421052631788\" x=\"226.57894736842104\" y=\"203.74433749999997\"><title>urceolatum_MJD_Japan_8: 1196487</title></rect><rect class=\"toyplot-Datum\" height=\"21.476300000000009\" style=\"fill:rgb(40%,76.1%,64.7%);fill-opacity:1.0;opacity:1.0;stroke:rgb(100%,100%,100%);stroke-opacity:1.0;stroke-width:1.0\" width=\"4.7368421052631504\" x=\"231.31578947368422\" y=\"203.52369999999999\"><title>ELS015_dentatum: 1199435</title></rect><rect class=\"toyplot-Datum\" height=\"21.638862499999988\" style=\"fill:rgb(40%,76.1%,64.7%);fill-opacity:1.0;opacity:1.0;stroke:rgb(100%,100%,100%);stroke-opacity:1.0;stroke-width:1.0\" width=\"4.7368421052631504\" x=\"236.05263157894737\" y=\"203.36113750000001\"><title>glaberrimum_D34_PWS_2323: 1213522</title></rect><rect class=\"toyplot-Datum\" height=\"21.942824999999999\" style=\"fill:rgb(40%,76.1%,64.7%);fill-opacity:1.0;opacity:1.0;stroke:rgb(100%,100%,100%);stroke-opacity:1.0;stroke-width:1.0\" width=\"4.7368421052631504\" x=\"240.78947368421052\" y=\"203.057175\"><title>bitchiuense_AA2047_77B: 1217073</title></rect><rect class=\"toyplot-Datum\" height=\"23.302975000000004\" style=\"fill:rgb(40%,76.1%,64.7%);fill-opacity:1.0;opacity:1.0;stroke:rgb(100%,100%,100%);stroke-opacity:1.0;stroke-width:1.0\" width=\"4.7368421052631504\" x=\"245.52631578947367\" y=\"201.697025\"><title>ELS079_nudum: 1227529</title></rect><rect class=\"toyplot-Datum\" height=\"23.513387499999993\" style=\"fill:rgb(40%,76.1%,64.7%);fill-opacity:1.0;opacity:1.0;stroke:rgb(100%,100%,100%);stroke-opacity:1.0;stroke-width:1.0\" width=\"4.7368421052631788\" x=\"250.26315789473682\" y=\"201.48661250000001\"><title>ELS085_lentago: 1252413</title></rect><rect class=\"toyplot-Datum\" height=\"23.784462499999989\" style=\"fill:rgb(40%,76.1%,64.7%);fill-opacity:1.0;opacity:1.0;stroke:rgb(100%,100%,100%);stroke-opacity:1.0;stroke-width:1.0\" width=\"4.736842105263122\" x=\"255.0\" y=\"201.21553750000001\"><title>vernicosum_D21_PWS_2123: 1289493</title></rect><rect class=\"toyplot-Datum\" height=\"24.764825000000002\" style=\"fill:rgb(40%,76.1%,64.7%);fill-opacity:1.0;opacity:1.0;stroke:rgb(100%,100%,100%);stroke-opacity:1.0;stroke-width:1.0\" width=\"4.7368421052631788\" x=\"259.73684210526312\" y=\"200.235175\"><title>veitchii_AA457_94B: 1293220</title></rect><rect class=\"toyplot-Datum\" height=\"25.776974999999993\" style=\"fill:rgb(40%,76.1%,64.7%);fill-opacity:1.0;opacity:1.0;stroke:rgb(100%,100%,100%);stroke-opacity:1.0;stroke-width:1.0\" width=\"4.7368421052631788\" x=\"264.4736842105263\" y=\"199.22302500000001\"><title>recognitum_AA_1471_83B: 1330292</title></rect><rect class=\"toyplot-Datum\" height=\"25.885812499999986\" style=\"fill:rgb(40%,76.1%,64.7%);fill-opacity:1.0;opacity:1.0;stroke:rgb(100%,100%,100%);stroke-opacity:1.0;stroke-width:1.0\" width=\"4.736842105263122\" x=\"269.21052631578948\" y=\"199.11418750000001\"><title>wrightii_D31_MJDJP_1: 1352742</title></rect><rect class=\"toyplot-Datum\" height=\"26.02721249999999\" style=\"fill:rgb(40%,76.1%,64.7%);fill-opacity:1.0;opacity:1.0;stroke:rgb(100%,100%,100%);stroke-opacity:1.0;stroke-width:1.0\" width=\"4.7368421052631788\" x=\"273.9473684210526\" y=\"198.97278750000001\"><title>ELS057_prunifolium: 1375545</title></rect><rect class=\"toyplot-Datum\" height=\"26.3005\" style=\"fill:rgb(40%,76.1%,64.7%);fill-opacity:1.0;opacity:1.0;stroke:rgb(100%,100%,100%);stroke-opacity:1.0;stroke-width:1.0\" width=\"4.7368421052631788\" x=\"278.68421052631578\" y=\"198.6995\"><title>opulus_D6_WC_250: 1380578</title></rect><rect class=\"toyplot-Datum\" height=\"26.3551875\" style=\"fill:rgb(40%,76.1%,64.7%);fill-opacity:1.0;opacity:1.0;stroke:rgb(100%,100%,100%);stroke-opacity:1.0;stroke-width:1.0\" width=\"4.736842105263122\" x=\"283.42105263157896\" y=\"198.6448125\"><title>erubescens_RCW36: 1392890</title></rect><rect class=\"toyplot-Datum\" height=\"26.823262499999998\" style=\"fill:rgb(40%,76.1%,64.7%);fill-opacity:1.0;opacity:1.0;stroke:rgb(100%,100%,100%);stroke-opacity:1.0;stroke-width:1.0\" width=\"4.7368421052631788\" x=\"288.15789473684208\" y=\"198.1767375\"><title>coriaceum_PWS2089: 1431849</title></rect><rect class=\"toyplot-Datum\" height=\"26.871012499999978\" style=\"fill:rgb(40%,76.1%,64.7%);fill-opacity:1.0;opacity:1.0;stroke:rgb(100%,100%,100%);stroke-opacity:1.0;stroke-width:1.0\" width=\"4.736842105263122\" x=\"292.89473684210526\" y=\"198.12898750000002\"><title>sambucina_D20_PWS_2100: 1446407</title></rect><rect class=\"toyplot-Datum\" height=\"27.273712499999988\" style=\"fill:rgb(40%,76.1%,64.7%);fill-opacity:1.0;opacity:1.0;stroke:rgb(100%,100%,100%);stroke-opacity:1.0;stroke-width:1.0\" width=\"4.7368421052632357\" x=\"297.63157894736838\" y=\"197.72628750000001\"><title>lantana_AA1098_60A: 1450416</title></rect><rect class=\"toyplot-Datum\" height=\"27.336412499999994\" style=\"fill:rgb(40%,76.1%,64.7%);fill-opacity:1.0;opacity:1.0;stroke:rgb(100%,100%,100%);stroke-opacity:1.0;stroke-width:1.0\" width=\"4.7368421052631788\" x=\"302.36842105263162\" y=\"197.66358750000001\"><title>propiinquum_PWS2319: 1456080</title></rect><rect class=\"toyplot-Datum\" height=\"27.398550000000029\" style=\"fill:rgb(40%,76.1%,64.7%);fill-opacity:1.0;opacity:1.0;stroke:rgb(100%,100%,100%);stroke-opacity:1.0;stroke-width:1.0\" width=\"4.736842105263122\" x=\"307.1052631578948\" y=\"197.60144999999997\"><title>ELS077_nudum: 1478154</title></rect><rect class=\"toyplot-Datum\" height=\"27.607699999999994\" style=\"fill:rgb(40%,76.1%,64.7%);fill-opacity:1.0;opacity:1.0;stroke:rgb(100%,100%,100%);stroke-opacity:1.0;stroke-width:1.0\" width=\"4.7368421052631788\" x=\"311.84210526315792\" y=\"197.39230000000001\"><title>muhalla_D28_WC_274: 1478648</title></rect><rect class=\"toyplot-Datum\" height=\"27.99063750000002\" style=\"fill:rgb(40%,76.1%,64.7%);fill-opacity:1.0;opacity:1.0;stroke:rgb(100%,100%,100%);stroke-opacity:1.0;stroke-width:1.0\" width=\"4.7368421052631788\" x=\"316.5789473684211\" y=\"197.00936249999998\"><title>rhytidophyllum_AA1386_82B: 1498664</title></rect><rect class=\"toyplot-Datum\" height=\"28.354099999999988\" style=\"fill:rgb(40%,76.1%,64.7%);fill-opacity:1.0;opacity:1.0;stroke:rgb(100%,100%,100%);stroke-opacity:1.0;stroke-width:1.0\" width=\"4.736842105263122\" x=\"321.31578947368428\" y=\"196.64590000000001\"><title>ELS072_dentatum: 1567194</title></rect><rect class=\"toyplot-Datum\" height=\"29.463625000000008\" style=\"fill:rgb(40%,76.1%,64.7%);fill-opacity:1.0;opacity:1.0;stroke:rgb(100%,100%,100%);stroke-opacity:1.0;stroke-width:1.0\" width=\"4.736842105263122\" x=\"326.0526315789474\" y=\"195.53637499999999\"><title>lantanoides_D16_Mohawk_2: 1643532</title></rect><rect class=\"toyplot-Datum\" height=\"30.151787499999983\" style=\"fill:rgb(40%,76.1%,64.7%);fill-opacity:1.0;opacity:1.0;stroke:rgb(100%,100%,100%);stroke-opacity:1.0;stroke-width:1.0\" width=\"4.7368421052631788\" x=\"330.78947368421052\" y=\"194.84821250000002\"><title>lutescens_D35_PWS_2077: 1714693</title></rect><rect class=\"toyplot-Datum\" height=\"30.312100000000015\" style=\"fill:rgb(40%,76.1%,64.7%);fill-opacity:1.0;opacity:1.0;stroke:rgb(100%,100%,100%);stroke-opacity:1.0;stroke-width:1.0\" width=\"4.736842105263122\" x=\"335.5263157894737\" y=\"194.68789999999998\"><title>lantanoides_D15_Beartown_2: 1728480</title></rect><rect class=\"toyplot-Datum\" height=\"30.460837499999968\" style=\"fill:rgb(40%,76.1%,64.7%);fill-opacity:1.0;opacity:1.0;stroke:rgb(100%,100%,100%);stroke-opacity:1.0;stroke-width:1.0\" width=\"4.7368421052631788\" x=\"340.26315789473682\" y=\"194.53916250000003\"><title>prunifolium_AA_22586A: 1738550</title></rect><rect class=\"toyplot-Datum\" height=\"31.318337500000013\" style=\"fill:rgb(40%,76.1%,64.7%);fill-opacity:1.0;opacity:1.0;stroke:rgb(100%,100%,100%);stroke-opacity:1.0;stroke-width:1.0\" width=\"4.7368421052631788\" x=\"345.0\" y=\"193.68166249999999\"><title>sulc_acut_hyb_D8_MEX_002: 1753393</title></rect><rect class=\"toyplot-Datum\" height=\"31.919675000000012\" style=\"fill:rgb(40%,76.1%,64.7%);fill-opacity:1.0;opacity:1.0;stroke:rgb(100%,100%,100%);stroke-opacity:1.0;stroke-width:1.0\" width=\"4.7368421052631788\" x=\"349.73684210526318\" y=\"193.08032499999999\"><title>macrocephalum_D2_WC_284: 1755195</title></rect><rect class=\"toyplot-Datum\" height=\"32.248487499999982\" style=\"fill:rgb(40%,76.1%,64.7%);fill-opacity:1.0;opacity:1.0;stroke:rgb(100%,100%,100%);stroke-opacity:1.0;stroke-width:1.0\" width=\"4.736842105263122\" x=\"354.47368421052636\" y=\"192.75151250000002\"><title>jamesonii_D12_PWS_1636: 1766957</title></rect><rect class=\"toyplot-Datum\" height=\"32.658062499999971\" style=\"fill:rgb(40%,76.1%,64.7%);fill-opacity:1.0;opacity:1.0;stroke:rgb(100%,100%,100%);stroke-opacity:1.0;stroke-width:1.0\" width=\"4.7368421052631788\" x=\"359.21052631578948\" y=\"192.34193750000003\"><title>luzonicum_D27_9M_2005: 1822854</title></rect><rect class=\"toyplot-Datum\" height=\"33.183575000000019\" style=\"fill:rgb(40%,76.1%,64.7%);fill-opacity:1.0;opacity:1.0;stroke:rgb(100%,100%,100%);stroke-opacity:1.0;stroke-width:1.0\" width=\"4.736842105263122\" x=\"363.94736842105266\" y=\"191.81642499999998\"><title>lantanoides_D_17_Mohawk_3: 1834462</title></rect><rect class=\"toyplot-Datum\" height=\"33.472512499999993\" style=\"fill:rgb(40%,76.1%,64.7%);fill-opacity:1.0;opacity:1.0;stroke:rgb(100%,100%,100%);stroke-opacity:1.0;stroke-width:1.0\" width=\"4.736842105263122\" x=\"368.68421052631578\" y=\"191.52748750000001\"><title>orientale_DRY2_MJD_GEORGIA: 1857562</title></rect><rect class=\"toyplot-Datum\" height=\"33.809249999999992\" style=\"fill:rgb(40%,76.1%,64.7%);fill-opacity:1.0;opacity:1.0;stroke:rgb(100%,100%,100%);stroke-opacity:1.0;stroke-width:1.0\" width=\"4.7368421052631788\" x=\"373.4210526315789\" y=\"191.19075000000001\"><title>clemensiae_DRY6_PWS_2135: 1863264</title></rect><rect class=\"toyplot-Datum\" height=\"33.964912499999969\" style=\"fill:rgb(40%,76.1%,64.7%);fill-opacity:1.0;opacity:1.0;stroke:rgb(100%,100%,100%);stroke-opacity:1.0;stroke-width:1.0\" width=\"4.7368421052631788\" x=\"378.15789473684208\" y=\"191.03508750000003\"><title>cinnamomifolium_PWS2105X: 1875141</title></rect><rect class=\"toyplot-Datum\" height=\"34.127325000000013\" style=\"fill:rgb(40%,76.1%,64.7%);fill-opacity:1.0;opacity:1.0;stroke:rgb(100%,100%,100%);stroke-opacity:1.0;stroke-width:1.0\" width=\"4.7368421052631788\" x=\"382.89473684210526\" y=\"190.87267499999999\"><title>setigerum_AA305_2002A: 1879101</title></rect><rect class=\"toyplot-Datum\" height=\"34.251287500000018\" style=\"fill:rgb(40%,76.1%,64.7%);fill-opacity:1.0;opacity:1.0;stroke:rgb(100%,100%,100%);stroke-opacity:1.0;stroke-width:1.0\" width=\"4.736842105263122\" x=\"387.63157894736844\" y=\"190.74871249999998\"><title>tinus_D33_WC_277: 1888337</title></rect><rect class=\"toyplot-Datum\" height=\"35.134850000000029\" style=\"fill:rgb(40%,76.1%,64.7%);fill-opacity:1.0;opacity:1.0;stroke:rgb(100%,100%,100%);stroke-opacity:1.0;stroke-width:1.0\" width=\"4.7368421052631788\" x=\"392.36842105263156\" y=\"189.86514999999997\"><title>punctatum_D19_PWS_2097: 1889971</title></rect><rect class=\"toyplot-Datum\" height=\"35.404737499999982\" style=\"fill:rgb(40%,76.1%,64.7%);fill-opacity:1.0;opacity:1.0;stroke:rgb(100%,100%,100%);stroke-opacity:1.0;stroke-width:1.0\" width=\"4.7368421052631788\" x=\"397.10526315789474\" y=\"189.59526250000002\"><title>amplificatum_D3_SAN_156003: 1897436</title></rect><rect class=\"toyplot-Datum\" height=\"35.701162499999981\" style=\"fill:rgb(40%,76.1%,64.7%);fill-opacity:1.0;opacity:1.0;stroke:rgb(100%,100%,100%);stroke-opacity:1.0;stroke-width:1.0\" width=\"4.736842105263122\" x=\"401.84210526315792\" y=\"189.29883750000002\"><title>lantanoides_D14_Beartown_1: 1902944</title></rect><rect class=\"toyplot-Datum\" height=\"35.777950000000004\" style=\"fill:rgb(40%,76.1%,64.7%);fill-opacity:1.0;opacity:1.0;stroke:rgb(100%,100%,100%);stroke-opacity:1.0;stroke-width:1.0\" width=\"4.7368421052631788\" x=\"406.57894736842104\" y=\"189.22205\"><title>davidii_D32_WC_269: 1903827</title></rect><rect class=\"toyplot-Datum\" height=\"35.89021249999999\" style=\"fill:rgb(40%,76.1%,64.7%);fill-opacity:1.0;opacity:1.0;stroke:rgb(100%,100%,100%);stroke-opacity:1.0;stroke-width:1.0\" width=\"4.736842105263122\" x=\"411.31578947368422\" y=\"189.10978750000001\"><title>propinquum_DRY4_WC_276: 1945648</title></rect><rect class=\"toyplot-Datum\" height=\"35.941775000000007\" style=\"fill:rgb(40%,76.1%,64.7%);fill-opacity:1.0;opacity:1.0;stroke:rgb(100%,100%,100%);stroke-opacity:1.0;stroke-width:1.0\" width=\"4.736842105263122\" x=\"416.05263157894734\" y=\"189.05822499999999\"><title>acerifolium_ELS88: 1995304</title></rect><rect class=\"toyplot-Datum\" height=\"37.339525000000009\" style=\"fill:rgb(40%,76.1%,64.7%);fill-opacity:1.0;opacity:1.0;stroke:rgb(100%,100%,100%);stroke-opacity:1.0;stroke-width:1.0\" width=\"4.7368421052631788\" x=\"420.78947368421046\" y=\"187.66047499999999\"><title>ELS045_dilatatum: 2018910</title></rect><rect class=\"toyplot-Datum\" height=\"38.497849999999971\" style=\"fill:rgb(40%,76.1%,64.7%);fill-opacity:1.0;opacity:1.0;stroke:rgb(100%,100%,100%);stroke-opacity:1.0;stroke-width:1.0\" width=\"4.7368421052631788\" x=\"425.52631578947364\" y=\"186.50215000000003\"><title>sympodiale_D18_KFC_1932: 2134310</title></rect><rect class=\"toyplot-Datum\" height=\"38.563275000000033\" style=\"fill:rgb(40%,76.1%,64.7%);fill-opacity:1.0;opacity:1.0;stroke:rgb(100%,100%,100%);stroke-opacity:1.0;stroke-width:1.0\" width=\"4.7368421052631788\" x=\"430.26315789473682\" y=\"186.43672499999997\"><title>ELS052_dentatum: 2164868</title></rect><rect class=\"toyplot-Datum\" height=\"38.939149999999984\" style=\"fill:rgb(40%,76.1%,64.7%);fill-opacity:1.0;opacity:1.0;stroke:rgb(100%,100%,100%);stroke-opacity:1.0;stroke-width:1.0\" width=\"4.736842105263122\" x=\"435.0\" y=\"186.06085000000002\"><title>japonicum_D26_WC_273: 2197088</title></rect><rect class=\"toyplot-Datum\" height=\"39.22546250000002\" style=\"fill:rgb(40%,76.1%,64.7%);fill-opacity:1.0;opacity:1.0;stroke:rgb(100%,100%,100%);stroke-opacity:1.0;stroke-width:1.0\" width=\"4.7368421052631788\" x=\"439.73684210526312\" y=\"185.77453749999998\"><title>sulc_acut_hyb_D7_MEX_001: 2205638</title></rect><rect class=\"toyplot-Datum\" height=\"40.208949999999987\" style=\"fill:rgb(40%,76.1%,64.7%);fill-opacity:1.0;opacity:1.0;stroke:rgb(100%,100%,100%);stroke-opacity:1.0;stroke-width:1.0\" width=\"4.7368421052632357\" x=\"444.4736842105263\" y=\"184.79105000000001\"><title>ELS004_dentatum: 2268340</title></rect><rect class=\"toyplot-Datum\" height=\"40.870562500000005\" style=\"fill:rgb(40%,76.1%,64.7%);fill-opacity:1.0;opacity:1.0;stroke:rgb(100%,100%,100%);stroke-opacity:1.0;stroke-width:1.0\" width=\"4.736842105263122\" x=\"449.21052631578954\" y=\"184.12943749999999\"><title>carlesii_D1_BP_001: 2292251</title></rect><rect class=\"toyplot-Datum\" height=\"41.03083749999999\" style=\"fill:rgb(40%,76.1%,64.7%);fill-opacity:1.0;opacity:1.0;stroke:rgb(100%,100%,100%);stroke-opacity:1.0;stroke-width:1.0\" width=\"4.7368421052631788\" x=\"453.94736842105266\" y=\"183.96916250000001\"><title>luzonicum_C8_KFC_1947: 2295701</title></rect><rect class=\"toyplot-Datum\" height=\"41.975337499999995\" style=\"fill:rgb(40%,76.1%,64.7%);fill-opacity:1.0;opacity:1.0;stroke:rgb(100%,100%,100%);stroke-opacity:1.0;stroke-width:1.0\" width=\"4.736842105263122\" x=\"458.68421052631584\" y=\"183.02466250000001\"><title>ELS082_dentatum: 2336805</title></rect><rect class=\"toyplot-Datum\" height=\"42.567199999999985\" style=\"fill:rgb(40%,76.1%,64.7%);fill-opacity:1.0;opacity:1.0;stroke:rgb(100%,100%,100%);stroke-opacity:1.0;stroke-width:1.0\" width=\"4.7368421052631788\" x=\"463.42105263157896\" y=\"182.43280000000001\"><title>hanceanum_D4_PWS_2195: 2386071</title></rect><rect class=\"toyplot-Datum\" height=\"49.626762500000012\" style=\"fill:rgb(40%,76.1%,64.7%);fill-opacity:1.0;opacity:1.0;stroke:rgb(100%,100%,100%);stroke-opacity:1.0;stroke-width:1.0\" width=\"4.736842105263122\" x=\"468.15789473684214\" y=\"175.37323749999999\"><title>furcatum_MJD10: 2434665</title></rect><rect class=\"toyplot-Datum\" height=\"52.928162500000013\" style=\"fill:rgb(40%,76.1%,64.7%);fill-opacity:1.0;opacity:1.0;stroke:rgb(100%,100%,100%);stroke-opacity:1.0;stroke-width:1.0\" width=\"4.7368421052631788\" x=\"472.89473684210526\" y=\"172.07183749999999\"><title>erosum_D23_MJDJP_4: 2556075</title></rect><rect class=\"toyplot-Datum\" height=\"53.47856250000001\" style=\"fill:rgb(40%,76.1%,64.7%);fill-opacity:1.0;opacity:1.0;stroke:rgb(100%,100%,100%);stroke-opacity:1.0;stroke-width:1.0\" width=\"4.7368421052631788\" x=\"477.63157894736844\" y=\"171.52143749999999\"><title>integrifolium_D25_KFC_1946: 2767668</title></rect><rect class=\"toyplot-Datum\" height=\"54.922474999999991\" style=\"fill:rgb(40%,76.1%,64.7%);fill-opacity:1.0;opacity:1.0;stroke:rgb(100%,100%,100%);stroke-opacity:1.0;stroke-width:1.0\" width=\"4.736842105263122\" x=\"482.36842105263162\" y=\"170.07752500000001\"><title>acutifolium_DRY3_MEX_006: 2805913</title></rect><rect class=\"toyplot-Datum\" height=\"59.935887500000007\" style=\"fill:rgb(40%,76.1%,64.7%);fill-opacity:1.0;opacity:1.0;stroke:rgb(100%,100%,100%);stroke-opacity:1.0;stroke-width:1.0\" width=\"4.7368421052631788\" x=\"487.10526315789474\" y=\"165.06411249999999\"><title>parvifolium_D29_KFC_1953: 2983275</title></rect><rect class=\"toyplot-Datum\" height=\"61.493437499999999\" style=\"fill:rgb(40%,76.1%,64.7%);fill-opacity:1.0;opacity:1.0;stroke:rgb(100%,100%,100%);stroke-opacity:1.0;stroke-width:1.0\" width=\"4.7368421052631788\" x=\"491.84210526315792\" y=\"163.5065625\"><title>ELS027_dentatum: 3045086</title></rect><rect class=\"toyplot-Datum\" height=\"62.369912499999998\" style=\"fill:rgb(40%,76.1%,64.7%);fill-opacity:1.0;opacity:1.0;stroke:rgb(100%,100%,100%);stroke-opacity:1.0;stroke-width:1.0\" width=\"4.736842105263122\" x=\"496.5789473684211\" y=\"162.6300875\"><title>tashiori_D30_TET_YAH: 3186348</title></rect><rect class=\"toyplot-Datum\" height=\"64.739312500000011\" style=\"fill:rgb(40%,76.1%,64.7%);fill-opacity:1.0;opacity:1.0;stroke:rgb(100%,100%,100%);stroke-opacity:1.0;stroke-width:1.0\" width=\"4.736842105263122\" x=\"501.31578947368422\" y=\"160.26068749999999\"><title>taiwanianum_TW1_KFC_1952: 3189375</title></rect><rect class=\"toyplot-Datum\" height=\"99.986100000000008\" style=\"fill:rgb(40%,76.1%,64.7%);fill-opacity:1.0;opacity:1.0;stroke:rgb(100%,100%,100%);stroke-opacity:1.0;stroke-width:1.0\" width=\"4.7368421052631788\" x=\"506.05263157894734\" y=\"125.01389999999999\"><title>sulcatum_D10_MEX_004: 3350266</title></rect><rect class=\"toyplot-Datum\" height=\"111.3408125\" style=\"fill:rgb(40%,76.1%,64.7%);fill-opacity:1.0;opacity:1.0;stroke:rgb(100%,100%,100%);stroke-opacity:1.0;stroke-width:1.0\" width=\"4.736842105263122\" x=\"510.78947368421052\" y=\"113.6591875\"><title>cylindricum_DRY1_WC_268: 3375925</title></rect><rect class=\"toyplot-Datum\" height=\"122.23163750000001\" style=\"fill:rgb(40%,76.1%,64.7%);fill-opacity:1.0;opacity:1.0;stroke:rgb(100%,100%,100%);stroke-opacity:1.0;stroke-width:1.0\" width=\"4.736842105263122\" x=\"515.52631578947364\" y=\"102.76836249999999\"><title>foetidum_D24_KFC_1942: 3856936</title></rect><rect class=\"toyplot-Datum\" height=\"149.62125\" style=\"fill:rgb(40%,76.1%,64.7%);fill-opacity:1.0;opacity:1.0;stroke:rgb(100%,100%,100%);stroke-opacity:1.0;stroke-width:1.0\" width=\"4.7368421052632357\" x=\"520.26315789473676\" y=\"75.378749999999997\"><title>sulcatum_D9_MEX_003: 3927064</title></rect></g></g></g><g class=\"toyplot-coordinates-Axis\" id=\"t9956566999e34c05b51ceb3321deb8cc\" transform=\"translate(75.0,225.0)translate(0,10.0)\"><text style=\"dominant-baseline:hanging;font-size:12px;font-weight:bold;stroke:none;text-anchor:middle\" transform=\"translate(225.0,22)\"><tspan style=\"dominant-baseline:inherit\">lib1-lane1</tspan></text><g class=\"toyplot-coordinates-Axis-coordinates\" style=\"visibility:hidden\" transform=\"\"><line style=\"stroke:rgb(43.9%,50.2%,56.5%);stroke-opacity:1.0;stroke-width:1.0\" x1=\"0\" x2=\"0\" y1=\"-3.0\" y2=\"4.5\"></line><text style=\"alignment-baseline:alphabetic;fill:rgb(43.9%,50.2%,56.5%);fill-opacity:1.0;font-size:10px;font-weight:normal;stroke:none;text-anchor:middle\" x=\"0\" y=\"-6\"></text></g></g><g class=\"toyplot-coordinates-Axis\" id=\"taa264437c8a64f4a934b1d93cd02b8df\" transform=\"translate(75.0,225.0)rotate(-90.0)translate(0,-10.0)\"><line style=\"\" x1=\"0\" x2=\"149.62125\" y1=\"0\" y2=\"0\"></line><g><text style=\"dominant-baseline:central;font-size:10px;font-weight:normal;stroke:none;text-anchor:end\" transform=\"translate(0.0,-6)rotate(90)\"><tspan style=\"dominant-baseline:inherit\">0</tspan></text><text style=\"dominant-baseline:central;font-size:10px;font-weight:normal;stroke:none;text-anchor:end\" transform=\"translate(50.0,-6)rotate(90)\"><tspan style=\"dominant-baseline:inherit\">4000000</tspan></text><text style=\"dominant-baseline:central;font-size:10px;font-weight:normal;stroke:none;text-anchor:end\" transform=\"translate(100.0,-6)rotate(90)\"><tspan style=\"dominant-baseline:inherit\">8000000</tspan></text><text style=\"dominant-baseline:central;font-size:10px;font-weight:normal;stroke:none;text-anchor:end\" transform=\"translate(150.0,-6)rotate(90)\"><tspan style=\"dominant-baseline:inherit\">12000000</tspan></text></g><g class=\"toyplot-coordinates-Axis-coordinates\" style=\"visibility:hidden\" transform=\"\"><line style=\"stroke:rgb(43.9%,50.2%,56.5%);stroke-opacity:1.0;stroke-width:1.0\" x1=\"0\" x2=\"0\" y1=\"3.0\" y2=\"-4.5\"></line><text style=\"alignment-baseline:hanging;fill:rgb(43.9%,50.2%,56.5%);fill-opacity:1.0;font-size:10px;font-weight:normal;stroke:none;text-anchor:middle\" x=\"0\" y=\"6\"></text></g></g></g></svg><div class=\"toyplot-interactive\"><ul class=\"toyplot-mark-popup\" onmouseleave=\"this.style.visibility='hidden'\" style=\"background:rgba(0%,0%,0%,0.75);border:0;border-radius:6px;color:white;cursor:default;list-style:none;margin:0;padding:5px;position:fixed;visibility:hidden\">\n",
       "            <li class=\"toyplot-mark-popup-title\" style=\"color:lightgray;cursor:default;padding:5px;list-style:none;margin:0\"></li>\n",
       "            <li class=\"toyplot-mark-popup-save-csv\" onmouseout=\"this.style.color='white';this.style.background='steelblue'\" onmouseover=\"this.style.color='steelblue';this.style.background='white'\" style=\"border-radius:3px;padding:5px;list-style:none;margin:0\">\n",
       "                Save as .csv\n",
       "            </li>\n",
       "        </ul><script>\n",
       "        (function()\n",
       "        {\n",
       "          var data_tables = [{\"title\": \"Bar Data\", \"names\": [\"left\", \"right\", \"baseline\", \"magnitude0\"], \"id\": \"tfafd8b8f2fc546a9ae95aab4a697244f\", \"columns\": [[-0.5, 0.5, 1.5, 2.5, 3.5, 4.5, 5.5, 6.5, 7.5, 8.5, 9.5, 10.5, 11.5, 12.5, 13.5, 14.5, 15.5, 16.5, 17.5, 18.5, 19.5, 20.5, 21.5, 22.5, 23.5, 24.5, 25.5, 26.5, 27.5, 28.5, 29.5, 30.5, 31.5, 32.5, 33.5, 34.5, 35.5, 36.5, 37.5, 38.5, 39.5, 40.5, 41.5, 42.5, 43.5, 44.5, 45.5, 46.5, 47.5, 48.5, 49.5, 50.5, 51.5, 52.5, 53.5, 54.5, 55.5, 56.5, 57.5, 58.5, 59.5, 60.5, 61.5, 62.5, 63.5, 64.5, 65.5, 66.5, 67.5, 68.5, 69.5, 70.5, 71.5, 72.5, 73.5, 74.5, 75.5, 76.5, 77.5, 78.5, 79.5, 80.5, 81.5, 82.5, 83.5, 84.5, 85.5, 86.5, 87.5, 88.5, 89.5, 90.5, 91.5, 92.5, 93.5], [0.5, 1.5, 2.5, 3.5, 4.5, 5.5, 6.5, 7.5, 8.5, 9.5, 10.5, 11.5, 12.5, 13.5, 14.5, 15.5, 16.5, 17.5, 18.5, 19.5, 20.5, 21.5, 22.5, 23.5, 24.5, 25.5, 26.5, 27.5, 28.5, 29.5, 30.5, 31.5, 32.5, 33.5, 34.5, 35.5, 36.5, 37.5, 38.5, 39.5, 40.5, 41.5, 42.5, 43.5, 44.5, 45.5, 46.5, 47.5, 48.5, 49.5, 50.5, 51.5, 52.5, 53.5, 54.5, 55.5, 56.5, 57.5, 58.5, 59.5, 60.5, 61.5, 62.5, 63.5, 64.5, 65.5, 66.5, 67.5, 68.5, 69.5, 70.5, 71.5, 72.5, 73.5, 74.5, 75.5, 76.5, 77.5, 78.5, 79.5, 80.5, 81.5, 82.5, 83.5, 84.5, 85.5, 86.5, 87.5, 88.5, 89.5, 90.5, 91.5, 92.5, 93.5, 94.5], [0.0, 0.0, 0.0, 0.0, 0.0, 0.0, 0.0, 0.0, 0.0, 0.0, 0.0, 0.0, 0.0, 0.0, 0.0, 0.0, 0.0, 0.0, 0.0, 0.0, 0.0, 0.0, 0.0, 0.0, 0.0, 0.0, 0.0, 0.0, 0.0, 0.0, 0.0, 0.0, 0.0, 0.0, 0.0, 0.0, 0.0, 0.0, 0.0, 0.0, 0.0, 0.0, 0.0, 0.0, 0.0, 0.0, 0.0, 0.0, 0.0, 0.0, 0.0, 0.0, 0.0, 0.0, 0.0, 0.0, 0.0, 0.0, 0.0, 0.0, 0.0, 0.0, 0.0, 0.0, 0.0, 0.0, 0.0, 0.0, 0.0, 0.0, 0.0, 0.0, 0.0, 0.0, 0.0, 0.0, 0.0, 0.0, 0.0, 0.0, 0.0, 0.0, 0.0, 0.0, 0.0, 0.0, 0.0, 0.0, 0.0, 0.0, 0.0, 0.0, 0.0, 0.0, 0.0], [53769.0, 58354.0, 139275.0, 193922.0, 198991.0, 209262.0, 267259.0, 299218.0, 355000.0, 386916.0, 394924.0, 483505.0, 711767.0, 817959.0, 919449.0, 933459.0, 1115590.0, 1177464.0, 1217012.0, 1231284.0, 1237818.0, 1250046.0, 1261693.0, 1351189.0, 1420426.0, 1453660.0, 1515003.0, 1521501.0, 1562389.0, 1586732.0, 1697486.0, 1698245.0, 1700453.0, 1718104.0, 1731109.0, 1755426.0, 1864238.0, 1881071.0, 1902757.0, 1981186.0, 2062158.0, 2070865.0, 2082177.0, 2104040.0, 2108415.0, 2145861.0, 2149681.0, 2181897.0, 2186913.0, 2191884.0, 2208616.0, 2239251.0, 2268328.0, 2357090.0, 2412143.0, 2424968.0, 2436867.0, 2505467.0, 2553574.0, 2579879.0, 2612645.0, 2654686.0, 2677801.0, 2704740.0, 2717193.0, 2730186.0, 2740103.0, 2810788.0, 2832379.0, 2856093.0, 2862236.0, 2871217.0, 2875342.0, 2987162.0, 3079828.0, 3085062.0, 3115132.0, 3138037.0, 3216716.0, 3269645.0, 3282467.0, 3358027.0, 3405376.0, 3970141.0, 4234253.0, 4278285.0, 4393798.0, 4794871.0, 4919475.0, 4989593.0, 5179145.0, 7998888.0, 8907265.0, 9778531.0, 11969700.0]], \"filename\": \"toyplot\"}];\n",
       "\n",
       "          function save_csv(data_table)\n",
       "          {\n",
       "            var uri = \"data:text/csv;charset=utf-8,\";\n",
       "            uri += data_table.names.join(\",\") + \"\\n\";\n",
       "            for(var i = 0; i != data_table.columns[0].length; ++i)\n",
       "            {\n",
       "              for(var j = 0; j != data_table.columns.length; ++j)\n",
       "              {\n",
       "                if(j)\n",
       "                  uri += \",\";\n",
       "                uri += data_table.columns[j][i];\n",
       "              }\n",
       "              uri += \"\\n\";\n",
       "            }\n",
       "            uri = encodeURI(uri);\n",
       "\n",
       "            var link = document.createElement(\"a\");\n",
       "            if(typeof link.download != \"undefined\")\n",
       "            {\n",
       "              link.href = uri;\n",
       "              link.style = \"visibility:hidden\";\n",
       "              link.download = data_table.filename + \".csv\";\n",
       "\n",
       "              document.body.appendChild(link);\n",
       "              link.click();\n",
       "              document.body.removeChild(link);\n",
       "            }\n",
       "            else\n",
       "            {\n",
       "              window.open(uri);\n",
       "            }\n",
       "          }\n",
       "\n",
       "          function open_popup(data_table)\n",
       "          {\n",
       "            return function(e)\n",
       "            {\n",
       "              var popup = document.querySelector(\"#ta7df1b1a1e1849dcb4e4374a0086f743 .toyplot-mark-popup\");\n",
       "              popup.querySelector(\".toyplot-mark-popup-title\").innerHTML = data_table.title;\n",
       "              popup.querySelector(\".toyplot-mark-popup-save-csv\").onclick = function() { popup.style.visibility = \"hidden\"; save_csv(data_table); }\n",
       "              popup.style.left = (e.clientX - 50) + \"px\";\n",
       "              popup.style.top = (e.clientY - 20) + \"px\";\n",
       "              popup.style.visibility = \"visible\";\n",
       "              e.stopPropagation();\n",
       "              e.preventDefault();\n",
       "            }\n",
       "\n",
       "          }\n",
       "\n",
       "          for(var i = 0; i != data_tables.length; ++i)\n",
       "          {\n",
       "            var data_table = data_tables[i];\n",
       "            var event_target = document.querySelector(\"#\" + data_table.id);\n",
       "            event_target.oncontextmenu = open_popup(data_table);\n",
       "          }\n",
       "        })();\n",
       "        </script><script>\n",
       "        (function()\n",
       "        {\n",
       "            function _sign(x)\n",
       "            {\n",
       "                return x < 0 ? -1 : x > 0 ? 1 : 0;\n",
       "            }\n",
       "\n",
       "            function _mix(a, b, amount)\n",
       "            {\n",
       "                return ((1.0 - amount) * a) + (amount * b);\n",
       "            }\n",
       "\n",
       "            function _log(x, base)\n",
       "            {\n",
       "                return Math.log(Math.abs(x)) / Math.log(base);\n",
       "            }\n",
       "\n",
       "            function _in_range(a, x, b)\n",
       "            {\n",
       "                var left = Math.min(a, b);\n",
       "                var right = Math.max(a, b);\n",
       "                return left <= x && x <= right;\n",
       "            }\n",
       "\n",
       "            function inside(range, projection)\n",
       "            {\n",
       "                for(var i = 0; i != projection.length; ++i)\n",
       "                {\n",
       "                    var segment = projection[i];\n",
       "                    if(_in_range(segment.range.min, range, segment.range.max))\n",
       "                        return true;\n",
       "                }\n",
       "                return false;\n",
       "            }\n",
       "\n",
       "            function to_domain(range, projection)\n",
       "            {\n",
       "                for(var i = 0; i != projection.length; ++i)\n",
       "                {\n",
       "                    var segment = projection[i];\n",
       "                    if(_in_range(segment.range.bounds.min, range, segment.range.bounds.max))\n",
       "                    {\n",
       "                        if(segment.scale == \"linear\")\n",
       "                        {\n",
       "                            var amount = (range - segment.range.min) / (segment.range.max - segment.range.min);\n",
       "                            return _mix(segment.domain.min, segment.domain.max, amount)\n",
       "                        }\n",
       "                        else if(segment.scale[0] == \"log\")\n",
       "                        {\n",
       "                            var amount = (range - segment.range.min) / (segment.range.max - segment.range.min);\n",
       "                            var base = segment.scale[1];\n",
       "                            return _sign(segment.domain.min) * Math.pow(base, _mix(_log(segment.domain.min, base), _log(segment.domain.max, base), amount));\n",
       "                        }\n",
       "                    }\n",
       "                }\n",
       "            }\n",
       "\n",
       "            function display_coordinates(e)\n",
       "            {\n",
       "                var current = svg.createSVGPoint();\n",
       "                current.x = e.clientX;\n",
       "                current.y = e.clientY;\n",
       "\n",
       "                for(var axis_id in axes)\n",
       "                {\n",
       "                    var axis = document.querySelector(\"#\" + axis_id);\n",
       "                    var coordinates = axis.querySelector(\".toyplot-coordinates-Axis-coordinates\");\n",
       "                    if(coordinates)\n",
       "                    {\n",
       "                        var projection = axes[axis_id];\n",
       "                        var local = current.matrixTransform(axis.getScreenCTM().inverse());\n",
       "                        if(inside(local.x, projection))\n",
       "                        {\n",
       "                            var domain = to_domain(local.x, projection);\n",
       "                            coordinates.style.visibility = \"visible\";\n",
       "                            coordinates.setAttribute(\"transform\", \"translate(\" + local.x + \")\");\n",
       "                            var text = coordinates.querySelector(\"text\");\n",
       "                            text.textContent = domain.toFixed(2);\n",
       "                        }\n",
       "                        else\n",
       "                        {\n",
       "                            coordinates.style.visibility= \"hidden\";\n",
       "                        }\n",
       "                    }\n",
       "                }\n",
       "            }\n",
       "\n",
       "            var root_id = \"ta7df1b1a1e1849dcb4e4374a0086f743\";\n",
       "            var axes = {\"t9956566999e34c05b51ceb3321deb8cc\": [{\"domain\": {\"bounds\": {\"max\": Infinity, \"min\": -Infinity}, \"max\": 94.5, \"min\": -0.5}, \"range\": {\"bounds\": {\"max\": Infinity, \"min\": -Infinity}, \"max\": 450.0, \"min\": 0.0}, \"scale\": \"linear\"}], \"taa264437c8a64f4a934b1d93cd02b8df\": [{\"domain\": {\"bounds\": {\"max\": Infinity, \"min\": -Infinity}, \"max\": 12000000.0, \"min\": 0.0}, \"range\": {\"bounds\": {\"max\": Infinity, \"min\": -Infinity}, \"max\": 150.0, \"min\": 0.0}, \"scale\": \"linear\"}]};\n",
       "\n",
       "            var svg = document.querySelector(\"#\" + root_id + \" svg\");\n",
       "            svg.addEventListener(\"click\", display_coordinates);\n",
       "        })();\n",
       "        </script></div></div>"
      ]
     },
     "metadata": {},
     "output_type": "display_data"
    }
   ],
   "source": [
    "canvas = toyplot.Canvas(height=3600, width=600)\n",
    "\n",
    "for idx in range(12):\n",
    "    axes = canvas.cartesian(grid=(12, 1, idx), gutter=75)\n",
    "    stats = data[idx].stats.drop(\"FGXCONTROL\").sort_values(by=\"reads_raw\")\n",
    "    hover = [\"{}: {}\".format(i, j) for i, j in zip(stats.index.tolist(), stats.reads_raw)]\n",
    "    axes.bars(stat, title=hover)\n",
    "    axes.x.label.text = data[idx].name\n",
    "    axes.x.ticks.labels.show = False\n",
    "    axes.x.spine.show = False\n",
    "    axes.y.ticks.labels.angle = -90\n",
    "    axes.y.ticks.locator = toyplot.locator.Explicit(axes.y.ticks.locator\n",
    "    axes.y.ticks.labels.style = {\"font-size\": 12}\n"
   ]
  },
  {
   "cell_type": "code",
   "execution_count": null,
   "metadata": {
    "collapsed": true
   },
   "outputs": [],
   "source": []
  }
 ],
 "metadata": {
  "anaconda-cloud": {},
  "kernelspec": {
   "display_name": "Python [conda root]",
   "language": "python",
   "name": "conda-root-py"
  },
  "language_info": {
   "codemirror_mode": {
    "name": "ipython",
    "version": 2
   },
   "file_extension": ".py",
   "mimetype": "text/x-python",
   "name": "python",
   "nbconvert_exporter": "python",
   "pygments_lexer": "ipython2",
   "version": "2.7.12"
  }
 },
 "nbformat": 4,
 "nbformat_minor": 1
}
